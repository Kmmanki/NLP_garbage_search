{
 "cells": [
  {
   "cell_type": "code",
   "execution_count": 1,
   "metadata": {},
   "outputs": [
    {
     "name": "stdout",
     "output_type": "stream",
     "text": [
      "      crawl_data_id                    title  \\\n",
      "0  2793adb3548fa555  홈케어가 대세 가구업계, 홈케어에 집중한다   \n",
      "\n",
      "                                             content         crawled_date  \\\n",
      "0  한샘 제공 [한스경제=고예인 기자] 습기가 많은 여름철을 맞아 가구업계가 '홈케어'...  2021-06-07 08:41:43   \n",
      "\n",
      "  garbage  \n",
      "0      진성  \n"
     ]
    }
   ],
   "source": [
    "import pandas as pd\r\n",
    "import numpy as np\r\n",
    "#데이터 불러오기 \r\n",
    "train_df = pd.read_excel('Training_Test2.xlsx',sheet_name=0)\r\n",
    "#행 섞기 \r\n",
    "train_df = train_df.sample(frac=1).reset_index(drop=True)\r\n",
    "\r\n",
    "print(train_df.head()[:1])\r\n"
   ]
  },
  {
   "cell_type": "code",
   "execution_count": 2,
   "metadata": {},
   "outputs": [
    {
     "name": "stdout",
     "output_type": "stream",
     "text": [
      "0    홈케어가 대세 가구업계, 홈케어에 집중한다한샘 제공 [한스경제=고예인 기자] 습기가...\n",
      "Name: text, dtype: object\n"
     ]
    }
   ],
   "source": [
    "train_df[\"text\"] = train_df[\"title\"] + train_df['content']\r\n",
    "\r\n",
    "print(train_df[:1]['text'])\r\n"
   ]
  },
  {
   "cell_type": "code",
   "execution_count": 3,
   "metadata": {},
   "outputs": [
    {
     "name": "stdout",
     "output_type": "stream",
     "text": [
      "      crawl_data_id                    title  \\\n",
      "0  2793adb3548fa555  홈케어가 대세 가구업계, 홈케어에 집중한다   \n",
      "\n",
      "                                             content         crawled_date  \\\n",
      "0  한샘 제공 [한스경제=고예인 기자] 습기가 많은 여름철을 맞아 가구업계가 '홈케어'...  2021-06-07 08:41:43   \n",
      "\n",
      "   garbage                                               text  \n",
      "0        1  홈케어가 대세 가구업계, 홈케어에 집중한다한샘 제공 [한스경제=고예인 기자] 습기가...  \n"
     ]
    }
   ],
   "source": [
    "#라벨인코더를 사용하여 라벨 인코딩\r\n",
    "from sklearn.preprocessing import LabelEncoder\r\n",
    "label_encoder = LabelEncoder()\r\n",
    "train_df['garbage'] = label_encoder.fit_transform(train_df['garbage'])\r\n",
    "\r\n",
    "print(train_df[:1])\r\n"
   ]
  },
  {
   "cell_type": "code",
   "execution_count": 4,
   "metadata": {},
   "outputs": [
    {
     "name": "stderr",
     "output_type": "stream",
     "text": [
      "<ipython-input-4-adc89ba7b45e>:4: FutureWarning: The default value of regex will change from True to False in a future version.\n",
      "  train_df['text'] = train_df['text'].str.replace(\"[[0-9],{0,1}([0-9],{0,3}){0,4}]\",\"\\$\")\n",
      "C:\\ProgramData\\Anaconda3\\lib\\site-packages\\pandas\\core\\strings\\object_array.py:160: FutureWarning: Possible nested set at position 1\n",
      "  compiled = re.compile(pat, flags=flags)\n",
      "<ipython-input-4-adc89ba7b45e>:5: FutureWarning: The default value of regex will change from True to False in a future version.\n",
      "  train_df['text'] = train_df['text'].str.replace(\"[^가-힣 \\$] \",\"\")\n"
     ]
    },
    {
     "data": {
      "text/html": [
       "<div>\n",
       "<style scoped>\n",
       "    .dataframe tbody tr th:only-of-type {\n",
       "        vertical-align: middle;\n",
       "    }\n",
       "\n",
       "    .dataframe tbody tr th {\n",
       "        vertical-align: top;\n",
       "    }\n",
       "\n",
       "    .dataframe thead th {\n",
       "        text-align: right;\n",
       "    }\n",
       "</style>\n",
       "<table border=\"1\" class=\"dataframe\">\n",
       "  <thead>\n",
       "    <tr style=\"text-align: right;\">\n",
       "      <th></th>\n",
       "      <th>crawl_data_id</th>\n",
       "      <th>title</th>\n",
       "      <th>content</th>\n",
       "      <th>crawled_date</th>\n",
       "      <th>garbage</th>\n",
       "      <th>text</th>\n",
       "    </tr>\n",
       "  </thead>\n",
       "  <tbody>\n",
       "  </tbody>\n",
       "</table>\n",
       "</div>"
      ],
      "text/plain": [
       "Empty DataFrame\n",
       "Columns: [crawl_data_id, title, content, crawled_date, garbage, text]\n",
       "Index: []"
      ]
     },
     "execution_count": 4,
     "metadata": {},
     "output_type": "execute_result"
    }
   ],
   "source": [
    "#전처리\r\n",
    "##빈 text -> NaN, 중복제거, NaN 행 제거 \r\n",
    "\r\n",
    "train_df['text'] = train_df['text'].str.replace(\"[[0-9]{0,9},{0,1}([0-9]{0,9},{0,1}){0,3}\",\"\\$\")\r\n",
    "train_df['text'] = train_df['text'].str.replace(\"[^가-힣 \\$] \",\"\")\r\n",
    "\r\n",
    "import numpy as np\r\n",
    "train_df['text'].replace('', np.nan, inplace=True)\r\n",
    "train_df = train_df.dropna(how='any')\r\n",
    "train_df.drop_duplicates(['text'], inplace=True)\r\n",
    "train_df.loc[train_df.text.isnull()]\r\n"
   ]
  },
  {
   "cell_type": "code",
   "execution_count": 5,
   "metadata": {},
   "outputs": [
    {
     "name": "stderr",
     "output_type": "stream",
     "text": [
      "C:\\ProgramData\\Anaconda3\\lib\\site-packages\\xlsxwriter\\worksheet.py:941: UserWarning: Ignoring URL 'http://cafe.naver.com/overseer/15173%20%20http://cafe.naver.com/overseer/13757%20%20%20http://cafe.naver.com/overseer/17834%20%20%20위%20게시글들을%20반드시%20읽어보고,%20작성해%20주셔야%20합니다.%20양식과%20내용이%20충실하지%20못하다고%20판단%20시%20등업거부될%20수%20있습니다.%20%201.%20공사할%20지역%20:%20진주%20%202.%20공사할%20평수%20&%20도면%20:%20%20%20%20%20%203.%20공사할%20내역%20:%20%20%20*철거%20:%20신발장,%20현관타일,%20중문,%20마루,%20거실%20및%20작은방1%20확장,%20아트월,%20싱크대,%20뒷베란다%20미닫이문,%20방문5,%20걸레받이,%20몰딩,%20거실화장실,%20작은방1%20붙박이장,%20안방목창,%20앞베란다장%20%20*도배%20:%20거실(신한),%20방3(lg%20베스티)%20%20*마루%20:%20동화%20나투스진%20그란데%20사하라라이트%20%20*샷시%20:%20거실발코니,%20앞베란다발코니,%20작은방확장부발코니,%20뒷베란다발코니3,%20(kcc%2024T)%20%20*목공%20:%20민자천정,%20거실%20및%20주방벽%20석고보드,%209mm문선,%20마이너스몰딩,%20무걸레받이(거실,주방),%20안방%20목창제거%20창틀,%20거실%20확장부%20및%20뒷베란다%20가벽,%20주방%20간살%20파티션%20%20*중문%20:%20스윙도어%20%20*주방%20및%20가구:%20전실%20하부%20띄움%20낮은%20신발장,%20현관%20낮은%20수납장,%20안방%20붙박이장,%20작은방1붙박이장,%20앞베란다장%20문,%20%20ㄱ자%20주방%20-%20상%20하부장%20PET무광%20샌드그레이,%2012T%20lg%20하이막스%20오로라%20블랑,%20사각볼,%20매립후드,%20슈티에수전,%20인덕션%20및%20식기세척기%20자리,%20정수기%20냉장고%20%20*필름%20:%20전실,%20주방,%20작은방2%20샷시,%209mm문틀%20%20*전기%20:%20거실%20매립등(14),%20복도(4),%20주방(2)+식탁등,%20안방%20조도%20조절가능등,%20작은방(2),%20현관%20및%20전실%20센서등,%20화장실(2),%20베란다(2)%20/%20주방만%20주광%20나머지%20주백색%20%20현관%20수납장%20끝%20청소기%20수납장%20-%20전기선%20%20%20아파트%20연동%20가능%20:%20코멕스%20비디오폰,%20도어락%20%20*타일%20:%20전실,%20베란다,%20주방(600각%20무광%20그레이),%20안방화장실%20(600각%20무광%20그레이),%20거실(600각%20무광%20베이지)%20%20안방화장실%20:%20우드장,%20우드휴지걸이,%20우드걸이(건식으로)%20%20거실화장실%20:%20젠다이,%20졸리컷마감,%20거울,%20욕실장%20따로,%20수건선반,%20추%20후%20이동식%20욕조%20%20*도장%20:%20베란다(유성페인트),%20전실(스타코)%20%20%20%20%20%20%20%204.%20공사기간에%20따른%20각%20공정별%20공사계획%20:%20%20%20%5b4월%2021일%20-%205월%2028일%5d%20%204/21%20-%204/26%20:%20철거%20및%20확장공사%20%204/28%20-%204/29%20:%20타일공사%20%205/6%20:%20샷시%20철거%20및%20시공%20%20510%20-%205/12%20:%20목공사%20%205/13%20-%205/14%20:%20필름%20%205/17-%205/19%20:%20마루%20%205/20%20:%20전기,%20조명%20%205/21%20:%20가구(신발장,%20붙박이장)%20%205/24%20-%205/26%20:%20도배%20%205/27%20:%20주방가구%20및%20도기세팅%20%205/28%20:%20도장%20%205/31%20:%20청소%20%20%20%20%205.%20미리%20잡은%20예산%20:%205000만원%20%206.%20인테리어%20중%20가장%20중점을%20두고%20있는%20공사내역%20%20%20:%20깔끔한%20마감%20%207.%20현장감독을%20할%20수%20있는%20가능시간(하루%20중에서)%20%20:%20아기가%20있어서%20중요한%20날에만%20다녀왔습니다.%20%20=============%20%20%20%20%20계속%20미루다가%20끝이%20보이는데%20계획서를%20쓰고%20있네요.%20%20정리하면서%20써보니%20현실%20앞에서%20포기한%20것이%20많은%20것%20같아%20아쉽습니다.%20%20%20그래도%20잘%20마무리되었으면%20좋겠습니다!%20%20%20' with link or location/anchor > 2079 characters since it exceeds Excel's limit for URLS\n",
      "  warn(\"Ignoring URL '%s' with link or location/anchor > %d \"\n"
     ]
    }
   ],
   "source": [
    "train_df.to_excel('tmp.xlsx')"
   ]
  },
  {
   "cell_type": "code",
   "execution_count": 6,
   "metadata": {},
   "outputs": [
    {
     "name": "stdout",
     "output_type": "stream",
     "text": [
      "['홈', '케어', '가', '대세', '가', '구업', '계', '홈', '케어', '에', '집중', '한다', '한샘', '제공', '[', '한스', '경제', '=', '고', '예', '인', '기자', '습기', '가', '많', '은', '여름철', '을', '맞', '아', '가', '구', '업계', '가', \"'\", '홈', '케어', '시장', '에', '본격', '적', '인', '날개', '를', '펴', '고', '있', '다', '가', '구', '업체', '가', '홈', '케어', '시장', '에', '주목', '하', '는', '이유', '는', '코로나', '1', '이후', '위생', '과', '방역', '시장', '전망', '이', '긍정', '적', '인', '데', '다', '실적', '정체', '에서', '벗어나', '기', '위한', '결정', '으로', '풀이', '된다', '이', '에', '사무', '용', '가구', '1', '위', '업체', '퍼시스', '까지', '홈', '케어', '시장', '에', '진출', '하', '면서', '신사업', '에', '열', '을', '올리', '고', '있', '다', '.', '¿', 'ω', '¿¿', 'ω', '¿', '코로나', '19', '로', '집', '에', '머무', '는', '시간', '이', '늘', '면서', '쾌적', '한', '주거', '환경', '에', '대한', '소비자', '들', '의', '관심', '이', '늘', '자', '가', '구', '업계', '는', '여름철', '세균', '과', '곰팡이', '번식', '이', '쉬운', '에어컨', '세탁기', '매트리스', '등', '을', '전문가', '가', '청소', '관리', '해', '주', '는', '케어', '서비스', '를', '선보이', '면서', '홈', '케어', '서비스', '시장', '을', '확장', '시켜', '나가', '고', '있', '다', '.', '¿', 'ω', '¿¿', 'ω', '¿', '7', '일', '가구', '업계', '에', '따르', '면', '홈', '케어', '시장', '규모', '는', '업계', '에서', '약', '7', '조', '원', '으로', '추정', '된다', '.', '¿', 'ω', '¿¿', 'ω', '¿', '홈', '케어', '시장', '에', '가장', '먼저', '진출', '한', '곳', '은', '국내', '가구', '1', '위', '기업', '한', '샘', '이', '다', '한샘', '은', '올해', '1', '월', '홈', '케어', '사업', '매출', '이', '전년', '동기', '대비', '90', '%', '가', '훌쩍', '넘', '었', '다', '온라인', '구독', '서비스', '에', '도', '홈', '케어', '서비스', '를', '도입', '시켰', '다', '또', '한샘', '은', '카카오톡', \"'\", '한샘', '몰', '채널', '을', '통해', '가', '구', '구독', '서비스', '를', '시작', '했', '다', '구독', '서비스', '는', '제품', '을', '구매', '하', '는', '대신', '특정', '기간', '동안', '제품', '이나', '서비스', '에', '금액', '을', '지불', '하', '고', '이용', '하', '는', '서비스', '다', '홈', '케어', '시장', '에서', '재미', '를', '본', '한샘', '은', '본격', '적', '인', '여름철', '을', '맞', '아', '홈', '케어', '상품', \"'\", '한샘', '홈', '케어', '여름철', '필수', '홈', '케어', '서비스', '5', '종', '을', '선보이', '며', '고객', '잡', '기', '에', '한창', '이', '다', '여름철', '에어컨', '세탁기', '매트리스', '등', '세균', '번식', '이', '쉬운', '집안', '가전제품', '부터', '가구', '까지', '전문가', '가', '모두', '청소', ',', '관리', '해', '주', '는', '시스템', '이', '다', '.', '¿', 'ω', '¿¿', 'ω', '¿', '한샘', '홈', '케어', '에어컨', '케어', '서비스', '는', '제품', '내', '외부', '청소', '와', '함께', '스팀', '피톤치드', '살균', '까지', '종합', '적', '으로', '관리', '해준다', '이달', '한', '샘', '몰', '에서', '에어컨', '케어', '를', '신청', '하', '면', '에어컨', '효율', '을', '높여', '주', '는', \"'\", '에너지', '세이버', '시공', '서비스', '도', '제공', '한다', '.', '¿', 'ω', '¿¿', 'ω', '¿', '한샘', '관계자', '는', '\"', '코로나', '1', '장기', '화', '로', '집안', '에', '있', '는', '시간', '이', '늘어나', '는', '가운데', '홈', '케어', '와', '인테리어', '만', '으로', '집', '을', '힐링', '할', '수', '있', '는', '공간', '으로', '만들', '어', '주', '는', '홈', '케어', '서비스', '가', '많', '은', '호응', '을', '얻', '고', '있', '다', '\"', '며', '\"', '무더위', '와', '장마', '에', '앞서', '쾌적', '한', '주거', '환경', '조성', '을', '위한', '서비스', '를', '제공', '할', '것', '\"', '이라고', '말', '했', '다', '.', '¿', 'ω', '¿¿', 'ω', '¿', '한편', '소재', '에', '집중', '하', '는', '기업', '도', '있', '다', '현대', '리바트', '는', '가구', '업계', '최초', '로', '친환경', '소재', '인', \"'\", '강화', '페트', '(', 'PET', ')', '-', '항균', '코팅', '표면', '재', \"'\", '를', '주요', '제품', '에', '적용', '하', '고', '있', '다', '또한', '현대', '리바트', '는', '그룹', '사', '인', '현대', '렌탈', '케어', '와', '협력', '해', '지난', '2019', '년', '부터', \"'\", '현대', '큐', '밍', '매트리스', '렌탈', '서비스', '상품', '을', '선보이', '고', '있', '다', '.', '¿', 'ω', '¿¿', 'ω', '¿', '사무', '가구', '업체', '들', '도', '홈', '케어', '시장', '진출', '에', '열', '을', '올리', '고', '있', '다', '사무', '용', '가구', '1', '위', '업체', '퍼시스', '는', '지난', '3', '월', '주주', '총회', '를', '통해', '소독', '방제', '서비스업', '위생', '관리', '용', '역업', '통신', '판매업', '을', '추가', '하', '는', '안건', '을', '상정', '했으며', '의자', '업체', '시', '디즈', '도', '같', '은', '날', '개최', '하', '는', '주주', '총회', '에', '위생', '관리', '용', '역업', '과', '소독', '방제', '서비스업', '을', '안건', '으로', '올리', '기', '로', '했', '다가', '구업', '계', '에선', '경쟁', '가구', '업체', '의', '신사업', '에', '영향', '을', '받', '은', '것', '으로', '보', '고', '있', '다', '.', '¿', 'ω', '¿¿', 'ω', '¿', '업계', '관계자', '는', '\"', '관리', '서비스', '는', '그간', '가전', '의', '영역', '에서', '매트리스', '로', '넓', '어', '져', '소비자', '의', '니즈', '가', '확대', '되', '는', '것', '을', '증명', '하', '고', '있', '다', '\"', '며', '\"', '관리', '서비스', '만', '전문', '적', '으로', '다루', '는', '업체', '들', '까지', '등장', '하', '는', '만큼', '향후', '시장', '확대', '효과', '를', '가져올', '것', '으로', '보인다', '\"', '고', '전망', '했', '다고', '예', '인', '기자', '*****@', 'sporbiz', '.', 'co', '.', 'kr']\n"
     ]
    }
   ],
   "source": [
    "from eunjeon import Mecab\r\n",
    "mecab = Mecab()\r\n",
    "\r\n",
    "train_df['text'] = train_df['text'].apply(mecab.morphs)\r\n",
    "print(train_df['text'].head()[0])\r\n",
    "train_df['tokenized'] = train_df['text'].apply(lambda x : [item for item in x if len(item) > 1 or item == '원'])\r\n"
   ]
  },
  {
   "cell_type": "code",
   "execution_count": 7,
   "metadata": {},
   "outputs": [],
   "source": [
    "x_train = train_df['tokenized']\r\n",
    "y_train = train_df['garbage']\r\n",
    "\r\n",
    "from sklearn.model_selection import train_test_split\r\n",
    "\r\n",
    "# x_train, x_val, y_train, y_val = train_test_split(x_train,y_train, test_size = 0.2, random_state = 42)"
   ]
  },
  {
   "cell_type": "code",
   "execution_count": 8,
   "metadata": {},
   "outputs": [
    {
     "name": "stdout",
     "output_type": "stream",
     "text": [
      "0    [케어, 대세, 구업, 케어, 집중, 한다, 한샘, 제공, 한스, 경제, 기자, 습...\n",
      "1    [스테이, 지스, 파워, 어린이, 진동, 칫솔, 배터리, 프린세스, 후기, 스테이,...\n",
      "2    [키즈, 세이프, 유아, 치약, 도향, 키즈, 세이프, 유아, 치약, 도향, 리뷰,...\n",
      "3    [샤프란, 로마, 시트, 섬유, 유연제, 코튼, 블로섬, 본품, 후기, 아픈, 주말...\n",
      "4    [공지, 이건, 창호, 이건, 일우, 기업, Th, 아너, 힐즈, 147, 타입, ...\n",
      "Name: tokenized, dtype: object\n",
      "0    1\n",
      "1    0\n",
      "2    0\n",
      "3    0\n",
      "4    1\n",
      "Name: garbage, dtype: int32\n"
     ]
    }
   ],
   "source": [
    "print(x_train.head())\r\n",
    "print(y_train.head())\r\n"
   ]
  },
  {
   "cell_type": "code",
   "execution_count": 9,
   "metadata": {},
   "outputs": [],
   "source": [
    "# def f(x):\r\n",
    "#     if x == []:\r\n",
    "#         return ''\r\n",
    "#     else:\r\n",
    "#         return x \r\n",
    "\r\n",
    "# data_df['tokenized'] = data_df['tokenized'].apply(lambda x :f(x))\r\n",
    "# data_df['tokenized'].replace('', np.nan, inplace=True)\r\n",
    "# data_df = data_df.dropna(how='any')"
   ]
  },
  {
   "cell_type": "code",
   "execution_count": 10,
   "metadata": {},
   "outputs": [],
   "source": [
    "# print(len(data_df.index))\r\n",
    "# # data_df"
   ]
  },
  {
   "cell_type": "code",
   "execution_count": 11,
   "metadata": {},
   "outputs": [],
   "source": [
    "#Tokenizer\r\n",
    "from tensorflow.keras.preprocessing.text import Tokenizer\r\n",
    "\r\n",
    "tokenizer = Tokenizer()\r\n",
    "\r\n",
    "tokenizer.fit_on_texts(x_train)"
   ]
  },
  {
   "cell_type": "code",
   "execution_count": 12,
   "metadata": {},
   "outputs": [],
   "source": [
    "# print(tokenizer.word_index)\r\n"
   ]
  },
  {
   "cell_type": "code",
   "execution_count": 13,
   "metadata": {},
   "outputs": [
    {
     "name": "stdout",
     "output_type": "stream",
     "text": [
      "단어 집합(vocabulary)의 크기 : 31088\n",
      "등장 빈도가 1번 이하인 희귀 단어의 수: 9890\n",
      "단어 집합에서 희귀 단어의 비율: 31.812918167781778\n",
      "전체 등장 빈도에서 희귀 단어 등장 빈도 비율: 1.6138665239371162\n"
     ]
    }
   ],
   "source": [
    "threshold = 2\r\n",
    "total_cnt = len(tokenizer.word_index) # 단어의 수\r\n",
    "rare_cnt = 0 # 등장 빈도수가 threshold보다 작은 단어의 개수를 카운트\r\n",
    "total_freq = 0 # 훈련 데이터의 전체 단어 빈도수 총 합\r\n",
    "rare_freq = 0 # 등장 빈도수가 threshold보다 작은 단어의 등장 빈도수의 총 합\r\n",
    "\r\n",
    "# 단어와 빈도수의 쌍(pair)을 key와 value로 받는다.\r\n",
    "for key, value in tokenizer.word_counts.items():\r\n",
    "    total_freq = total_freq + value\r\n",
    "\r\n",
    "    # 단어의 등장 빈도수가 threshold보다 작으면\r\n",
    "    if(value < threshold):\r\n",
    "        rare_cnt = rare_cnt + 1\r\n",
    "        rare_freq = rare_freq + value\r\n",
    "\r\n",
    "print('단어 집합(vocabulary)의 크기 :',total_cnt)\r\n",
    "print('등장 빈도가 %s번 이하인 희귀 단어의 수: %s'%(threshold - 1, rare_cnt))\r\n",
    "print(\"단어 집합에서 희귀 단어의 비율:\", (rare_cnt / total_cnt)*100)\r\n",
    "print(\"전체 등장 빈도에서 희귀 단어 등장 빈도 비율:\", (rare_freq / total_freq)*100)"
   ]
  },
  {
   "cell_type": "code",
   "execution_count": 14,
   "metadata": {},
   "outputs": [
    {
     "data": {
      "text/plain": [
       "21198"
      ]
     },
     "execution_count": 14,
     "metadata": {},
     "output_type": "execute_result"
    }
   ],
   "source": [
    "vocab_size = len(tokenizer.word_index) -rare_cnt\r\n",
    "vocab_size"
   ]
  },
  {
   "cell_type": "code",
   "execution_count": 15,
   "metadata": {},
   "outputs": [],
   "source": [
    "tokenizer = Tokenizer(vocab_size, oov_token='OOV')\r\n",
    "\r\n",
    "tokenizer.fit_on_texts(x_train)\r\n",
    "\r\n",
    "x_train = tokenizer.texts_to_sequences(x_train)\r\n"
   ]
  },
  {
   "cell_type": "code",
   "execution_count": null,
   "metadata": {},
   "outputs": [],
   "source": []
  },
  {
   "cell_type": "code",
   "execution_count": 16,
   "metadata": {},
   "outputs": [
    {
     "data": {
      "text/plain": [
       "[]"
      ]
     },
     "execution_count": 16,
     "metadata": {},
     "output_type": "execute_result"
    }
   ],
   "source": [
    "drop_train = [index for index, sentence in enumerate(x_train) if len(sentence) < 5]\r\n",
    "drop_train"
   ]
  },
  {
   "cell_type": "code",
   "execution_count": 17,
   "metadata": {},
   "outputs": [
    {
     "name": "stdout",
     "output_type": "stream",
     "text": [
      "(2682,)\n",
      "(2682,)\n"
     ]
    },
    {
     "name": "stderr",
     "output_type": "stream",
     "text": [
      "<ipython-input-17-3edc69c96084>:1: VisibleDeprecationWarning: Creating an ndarray from ragged nested sequences (which is a list-or-tuple of lists-or-tuples-or ndarrays with different lengths or shapes) is deprecated. If you meant to do this, you must specify 'dtype=object' when creating the ndarray.\n",
      "  x_train = np.array(x_train)\n"
     ]
    }
   ],
   "source": [
    "x_train = np.array(x_train)\r\n",
    "y_train = np.array(y_train)\r\n",
    "\r\n",
    "print(x_train.shape)\r\n",
    "print(y_train.shape)\r\n"
   ]
  },
  {
   "cell_type": "code",
   "execution_count": 18,
   "metadata": {},
   "outputs": [],
   "source": [
    "x_train = np.delete(x_train, drop_train, axis=0)\r\n",
    "y_train = np.delete(y_train, drop_train, axis=0)"
   ]
  },
  {
   "cell_type": "code",
   "execution_count": 19,
   "metadata": {},
   "outputs": [
    {
     "name": "stdout",
     "output_type": "stream",
     "text": [
      "리뷰의 최대 길이 : 1643\n",
      "리뷰의 평균 길이 : 228.49142431021625\n"
     ]
    },
    {
     "data": {
      "image/png": "[encoded data removed]",
      "text/plain": [
       "<Figure size 432x288 with 1 Axes>"
      ]
     },
     "metadata": {
      "needs_background": "light"
     },
     "output_type": "display_data"
    }
   ],
   "source": [
    "import matplotlib.pyplot as plt\r\n",
    "print('리뷰의 최대 길이 :',max(len(l) for l in x_train))\r\n",
    "print('리뷰의 평균 길이 :',sum(map(len, x_train))/len(x_train))\r\n",
    "plt.hist([len(s) for s in x_train], bins=50)\r\n",
    "plt.xlabel('length of samples')\r\n",
    "plt.ylabel('number of samples')\r\n",
    "plt.show()"
   ]
  },
  {
   "cell_type": "code",
   "execution_count": 20,
   "metadata": {},
   "outputs": [
    {
     "name": "stdout",
     "output_type": "stream",
     "text": [
      "전체 샘플 중 길이가 750 이하인 샘플의 비율: 98.06114839671886\n"
     ]
    }
   ],
   "source": [
    "def below_threshold_len(max_len, nested_list):\r\n",
    "  cnt = 0\r\n",
    "  for s in nested_list:\r\n",
    "    if(len(s) <= max_len):\r\n",
    "        cnt = cnt + 1\r\n",
    "  print('전체 샘플 중 길이가 %s 이하인 샘플의 비율: %s'%(max_len, (cnt / len(nested_list))*100))\r\n",
    "\r\n",
    "max_len = 750\r\n",
    "below_threshold_len(max_len, x_train)"
   ]
  },
  {
   "cell_type": "code",
   "execution_count": 21,
   "metadata": {},
   "outputs": [],
   "source": [
    "from tensorflow.keras.preprocessing.sequence import pad_sequences\r\n",
    "\r\n",
    "x_train = pad_sequences(x_train, maxlen = max_len)"
   ]
  },
  {
   "cell_type": "code",
   "execution_count": 22,
   "metadata": {},
   "outputs": [
    {
     "name": "stdout",
     "output_type": "stream",
     "text": [
      "카테고리의 종류 :  2\n",
      "(2682, 750)\n",
      "(2682,)\n",
      "[0 1]\n"
     ]
    }
   ],
   "source": [
    "category = np.max(y_train)+1\r\n",
    "print(\"카테고리의 종류 : \",category)\r\n",
    "print(x_train.shape)\r\n",
    "print(y_train.shape)\r\n",
    "print(np.unique(y_train))\r\n",
    "\r\n",
    "from tensorflow.keras.utils import to_categorical\r\n",
    "y_train = to_categorical(y_train)"
   ]
  },
  {
   "cell_type": "code",
   "execution_count": 23,
   "metadata": {},
   "outputs": [],
   "source": [
    "from tensorflow.keras.layers import Embedding, Dense, LSTM, Conv1D,Dropout, Conv1D, GlobalMaxPooling1D, Dense, BatchNormalization\r\n",
    "from tensorflow.keras.models import Sequential\r\n",
    "from tensorflow.keras.models import load_model\r\n",
    "from tensorflow.keras.callbacks import EarlyStopping, ModelCheckpoint\r\n",
    "\r\n",
    "model=Sequential()\r\n",
    "model.add(Embedding(vocab_size+2, 512))\r\n",
    "model.add(Dropout(0.3))\r\n",
    "model.add(Conv1D(512, 2, padding='valid', activation='relu'))\r\n",
    "model.add(GlobalMaxPooling1D())\r\n",
    "model.add(Dense(128, activation='relu'))\r\n",
    "model.add(Dense(2, activation='softmax'))\r\n",
    "\r\n"
   ]
  },
  {
   "cell_type": "code",
   "execution_count": 24,
   "metadata": {},
   "outputs": [
    {
     "name": "stdout",
     "output_type": "stream",
     "text": [
      "Model: \"sequential\"\n",
      "_________________________________________________________________\n",
      "Layer (type)                 Output Shape              Param #   \n",
      "=================================================================\n",
      "embedding (Embedding)        (None, None, 512)         10854400  \n",
      "_________________________________________________________________\n",
      "dropout (Dropout)            (None, None, 512)         0         \n",
      "_________________________________________________________________\n",
      "conv1d (Conv1D)              (None, None, 512)         524800    \n",
      "_________________________________________________________________\n",
      "global_max_pooling1d (Global (None, 512)               0         \n",
      "_________________________________________________________________\n",
      "dense (Dense)                (None, 128)               65664     \n",
      "_________________________________________________________________\n",
      "dense_1 (Dense)              (None, 2)                 258       \n",
      "=================================================================\n",
      "Total params: 11,445,122\n",
      "Trainable params: 11,445,122\n",
      "Non-trainable params: 0\n",
      "_________________________________________________________________\n"
     ]
    }
   ],
   "source": [
    "model.summary()"
   ]
  },
  {
   "cell_type": "code",
   "execution_count": 25,
   "metadata": {},
   "outputs": [
    {
     "name": "stdout",
     "output_type": "stream",
     "text": [
      "Epoch 1/100\n",
      " 2/68 [..............................] - ETA: 58s - loss: 0.6680 - acc: 0.6875 "
     ]
    },
    {
     "ename": "KeyboardInterrupt",
     "evalue": "",
     "output_type": "error",
     "traceback": [
      "\u001b[1;31m---------------------------------------------------------------------------\u001b[0m",
      "\u001b[1;31mKeyboardInterrupt\u001b[0m                         Traceback (most recent call last)",
      "\u001b[1;32m<ipython-input-25-99419b83a9ad>\u001b[0m in \u001b[0;36m<module>\u001b[1;34m\u001b[0m\n\u001b[0;32m      2\u001b[0m \u001b[0mmodel\u001b[0m\u001b[1;33m.\u001b[0m\u001b[0mcompile\u001b[0m\u001b[1;33m(\u001b[0m\u001b[0moptimizer\u001b[0m\u001b[1;33m=\u001b[0m\u001b[1;34m'adam'\u001b[0m\u001b[1;33m,\u001b[0m \u001b[0mloss\u001b[0m\u001b[1;33m=\u001b[0m\u001b[1;34m'categorical_crossentropy'\u001b[0m\u001b[1;33m,\u001b[0m \u001b[0mmetrics\u001b[0m\u001b[1;33m=\u001b[0m\u001b[1;33m[\u001b[0m\u001b[1;34m'acc'\u001b[0m\u001b[1;33m]\u001b[0m\u001b[1;33m)\u001b[0m\u001b[1;33m\u001b[0m\u001b[1;33m\u001b[0m\u001b[0m\n\u001b[0;32m      3\u001b[0m \u001b[1;33m\u001b[0m\u001b[0m\n\u001b[1;32m----> 4\u001b[1;33m \u001b[0mmodel\u001b[0m\u001b[1;33m.\u001b[0m\u001b[0mfit\u001b[0m\u001b[1;33m(\u001b[0m\u001b[0mx_train\u001b[0m\u001b[1;33m,\u001b[0m \u001b[0my_train\u001b[0m\u001b[1;33m,\u001b[0m \u001b[0mepochs\u001b[0m\u001b[1;33m=\u001b[0m\u001b[1;36m100\u001b[0m\u001b[1;33m,\u001b[0m \u001b[0mcallbacks\u001b[0m\u001b[1;33m=\u001b[0m\u001b[1;33m[\u001b[0m\u001b[0mes\u001b[0m\u001b[1;33m]\u001b[0m\u001b[1;33m,\u001b[0m \u001b[0mbatch_size\u001b[0m\u001b[1;33m=\u001b[0m\u001b[1;36m32\u001b[0m\u001b[1;33m,\u001b[0m \u001b[0mvalidation_split\u001b[0m\u001b[1;33m=\u001b[0m\u001b[1;36m0.2\u001b[0m\u001b[1;33m)\u001b[0m\u001b[1;33m\u001b[0m\u001b[1;33m\u001b[0m\u001b[0m\n\u001b[0m\u001b[0;32m      5\u001b[0m \u001b[1;31m# mode = load_model('saved/conv1D_model_0610.h5')\u001b[0m\u001b[1;33m\u001b[0m\u001b[1;33m\u001b[0m\u001b[1;33m\u001b[0m\u001b[0m\n",
      "\u001b[1;32mC:\\ProgramData\\Anaconda3\\lib\\site-packages\\tensorflow\\python\\keras\\engine\\training.py\u001b[0m in \u001b[0;36mfit\u001b[1;34m(self, x, y, batch_size, epochs, verbose, callbacks, validation_split, validation_data, shuffle, class_weight, sample_weight, initial_epoch, steps_per_epoch, validation_steps, validation_batch_size, validation_freq, max_queue_size, workers, use_multiprocessing)\u001b[0m\n\u001b[0;32m   1098\u001b[0m                 _r=1):\n\u001b[0;32m   1099\u001b[0m               \u001b[0mcallbacks\u001b[0m\u001b[1;33m.\u001b[0m\u001b[0mon_train_batch_begin\u001b[0m\u001b[1;33m(\u001b[0m\u001b[0mstep\u001b[0m\u001b[1;33m)\u001b[0m\u001b[1;33m\u001b[0m\u001b[1;33m\u001b[0m\u001b[0m\n\u001b[1;32m-> 1100\u001b[1;33m               \u001b[0mtmp_logs\u001b[0m \u001b[1;33m=\u001b[0m \u001b[0mself\u001b[0m\u001b[1;33m.\u001b[0m\u001b[0mtrain_function\u001b[0m\u001b[1;33m(\u001b[0m\u001b[0miterator\u001b[0m\u001b[1;33m)\u001b[0m\u001b[1;33m\u001b[0m\u001b[1;33m\u001b[0m\u001b[0m\n\u001b[0m\u001b[0;32m   1101\u001b[0m               \u001b[1;32mif\u001b[0m \u001b[0mdata_handler\u001b[0m\u001b[1;33m.\u001b[0m\u001b[0mshould_sync\u001b[0m\u001b[1;33m:\u001b[0m\u001b[1;33m\u001b[0m\u001b[1;33m\u001b[0m\u001b[0m\n\u001b[0;32m   1102\u001b[0m                 \u001b[0mcontext\u001b[0m\u001b[1;33m.\u001b[0m\u001b[0masync_wait\u001b[0m\u001b[1;33m(\u001b[0m\u001b[1;33m)\u001b[0m\u001b[1;33m\u001b[0m\u001b[1;33m\u001b[0m\u001b[0m\n",
      "\u001b[1;32mC:\\ProgramData\\Anaconda3\\lib\\site-packages\\tensorflow\\python\\eager\\def_function.py\u001b[0m in \u001b[0;36m__call__\u001b[1;34m(self, *args, **kwds)\u001b[0m\n\u001b[0;32m    826\u001b[0m     \u001b[0mtracing_count\u001b[0m \u001b[1;33m=\u001b[0m \u001b[0mself\u001b[0m\u001b[1;33m.\u001b[0m\u001b[0mexperimental_get_tracing_count\u001b[0m\u001b[1;33m(\u001b[0m\u001b[1;33m)\u001b[0m\u001b[1;33m\u001b[0m\u001b[1;33m\u001b[0m\u001b[0m\n\u001b[0;32m    827\u001b[0m     \u001b[1;32mwith\u001b[0m \u001b[0mtrace\u001b[0m\u001b[1;33m.\u001b[0m\u001b[0mTrace\u001b[0m\u001b[1;33m(\u001b[0m\u001b[0mself\u001b[0m\u001b[1;33m.\u001b[0m\u001b[0m_name\u001b[0m\u001b[1;33m)\u001b[0m \u001b[1;32mas\u001b[0m \u001b[0mtm\u001b[0m\u001b[1;33m:\u001b[0m\u001b[1;33m\u001b[0m\u001b[1;33m\u001b[0m\u001b[0m\n\u001b[1;32m--> 828\u001b[1;33m       \u001b[0mresult\u001b[0m \u001b[1;33m=\u001b[0m \u001b[0mself\u001b[0m\u001b[1;33m.\u001b[0m\u001b[0m_call\u001b[0m\u001b[1;33m(\u001b[0m\u001b[1;33m*\u001b[0m\u001b[0margs\u001b[0m\u001b[1;33m,\u001b[0m \u001b[1;33m**\u001b[0m\u001b[0mkwds\u001b[0m\u001b[1;33m)\u001b[0m\u001b[1;33m\u001b[0m\u001b[1;33m\u001b[0m\u001b[0m\n\u001b[0m\u001b[0;32m    829\u001b[0m       \u001b[0mcompiler\u001b[0m \u001b[1;33m=\u001b[0m \u001b[1;34m\"xla\"\u001b[0m \u001b[1;32mif\u001b[0m \u001b[0mself\u001b[0m\u001b[1;33m.\u001b[0m\u001b[0m_experimental_compile\u001b[0m \u001b[1;32melse\u001b[0m \u001b[1;34m\"nonXla\"\u001b[0m\u001b[1;33m\u001b[0m\u001b[1;33m\u001b[0m\u001b[0m\n\u001b[0;32m    830\u001b[0m       \u001b[0mnew_tracing_count\u001b[0m \u001b[1;33m=\u001b[0m \u001b[0mself\u001b[0m\u001b[1;33m.\u001b[0m\u001b[0mexperimental_get_tracing_count\u001b[0m\u001b[1;33m(\u001b[0m\u001b[1;33m)\u001b[0m\u001b[1;33m\u001b[0m\u001b[1;33m\u001b[0m\u001b[0m\n",
      "\u001b[1;32mC:\\ProgramData\\Anaconda3\\lib\\site-packages\\tensorflow\\python\\eager\\def_function.py\u001b[0m in \u001b[0;36m_call\u001b[1;34m(self, *args, **kwds)\u001b[0m\n\u001b[0;32m    853\u001b[0m       \u001b[1;31m# In this case we have created variables on the first call, so we run the\u001b[0m\u001b[1;33m\u001b[0m\u001b[1;33m\u001b[0m\u001b[1;33m\u001b[0m\u001b[0m\n\u001b[0;32m    854\u001b[0m       \u001b[1;31m# defunned version which is guaranteed to never create variables.\u001b[0m\u001b[1;33m\u001b[0m\u001b[1;33m\u001b[0m\u001b[1;33m\u001b[0m\u001b[0m\n\u001b[1;32m--> 855\u001b[1;33m       \u001b[1;32mreturn\u001b[0m \u001b[0mself\u001b[0m\u001b[1;33m.\u001b[0m\u001b[0m_stateless_fn\u001b[0m\u001b[1;33m(\u001b[0m\u001b[1;33m*\u001b[0m\u001b[0margs\u001b[0m\u001b[1;33m,\u001b[0m \u001b[1;33m**\u001b[0m\u001b[0mkwds\u001b[0m\u001b[1;33m)\u001b[0m  \u001b[1;31m# pylint: disable=not-callable\u001b[0m\u001b[1;33m\u001b[0m\u001b[1;33m\u001b[0m\u001b[0m\n\u001b[0m\u001b[0;32m    856\u001b[0m     \u001b[1;32melif\u001b[0m \u001b[0mself\u001b[0m\u001b[1;33m.\u001b[0m\u001b[0m_stateful_fn\u001b[0m \u001b[1;32mis\u001b[0m \u001b[1;32mnot\u001b[0m \u001b[1;32mNone\u001b[0m\u001b[1;33m:\u001b[0m\u001b[1;33m\u001b[0m\u001b[1;33m\u001b[0m\u001b[0m\n\u001b[0;32m    857\u001b[0m       \u001b[1;31m# Release the lock early so that multiple threads can perform the call\u001b[0m\u001b[1;33m\u001b[0m\u001b[1;33m\u001b[0m\u001b[1;33m\u001b[0m\u001b[0m\n",
      "\u001b[1;32mC:\\ProgramData\\Anaconda3\\lib\\site-packages\\tensorflow\\python\\eager\\function.py\u001b[0m in \u001b[0;36m__call__\u001b[1;34m(self, *args, **kwargs)\u001b[0m\n\u001b[0;32m   2940\u001b[0m       (graph_function,\n\u001b[0;32m   2941\u001b[0m        filtered_flat_args) = self._maybe_define_function(args, kwargs)\n\u001b[1;32m-> 2942\u001b[1;33m     return graph_function._call_flat(\n\u001b[0m\u001b[0;32m   2943\u001b[0m         filtered_flat_args, captured_inputs=graph_function.captured_inputs)  # pylint: disable=protected-access\n\u001b[0;32m   2944\u001b[0m \u001b[1;33m\u001b[0m\u001b[0m\n",
      "\u001b[1;32mC:\\ProgramData\\Anaconda3\\lib\\site-packages\\tensorflow\\python\\eager\\function.py\u001b[0m in \u001b[0;36m_call_flat\u001b[1;34m(self, args, captured_inputs, cancellation_manager)\u001b[0m\n\u001b[0;32m   1916\u001b[0m         and executing_eagerly):\n\u001b[0;32m   1917\u001b[0m       \u001b[1;31m# No tape is watching; skip to running the function.\u001b[0m\u001b[1;33m\u001b[0m\u001b[1;33m\u001b[0m\u001b[1;33m\u001b[0m\u001b[0m\n\u001b[1;32m-> 1918\u001b[1;33m       return self._build_call_outputs(self._inference_function.call(\n\u001b[0m\u001b[0;32m   1919\u001b[0m           ctx, args, cancellation_manager=cancellation_manager))\n\u001b[0;32m   1920\u001b[0m     forward_backward = self._select_forward_and_backward_functions(\n",
      "\u001b[1;32mC:\\ProgramData\\Anaconda3\\lib\\site-packages\\tensorflow\\python\\eager\\function.py\u001b[0m in \u001b[0;36mcall\u001b[1;34m(self, ctx, args, cancellation_manager)\u001b[0m\n\u001b[0;32m    553\u001b[0m       \u001b[1;32mwith\u001b[0m \u001b[0m_InterpolateFunctionError\u001b[0m\u001b[1;33m(\u001b[0m\u001b[0mself\u001b[0m\u001b[1;33m)\u001b[0m\u001b[1;33m:\u001b[0m\u001b[1;33m\u001b[0m\u001b[1;33m\u001b[0m\u001b[0m\n\u001b[0;32m    554\u001b[0m         \u001b[1;32mif\u001b[0m \u001b[0mcancellation_manager\u001b[0m \u001b[1;32mis\u001b[0m \u001b[1;32mNone\u001b[0m\u001b[1;33m:\u001b[0m\u001b[1;33m\u001b[0m\u001b[1;33m\u001b[0m\u001b[0m\n\u001b[1;32m--> 555\u001b[1;33m           outputs = execute.execute(\n\u001b[0m\u001b[0;32m    556\u001b[0m               \u001b[0mstr\u001b[0m\u001b[1;33m(\u001b[0m\u001b[0mself\u001b[0m\u001b[1;33m.\u001b[0m\u001b[0msignature\u001b[0m\u001b[1;33m.\u001b[0m\u001b[0mname\u001b[0m\u001b[1;33m)\u001b[0m\u001b[1;33m,\u001b[0m\u001b[1;33m\u001b[0m\u001b[1;33m\u001b[0m\u001b[0m\n\u001b[0;32m    557\u001b[0m               \u001b[0mnum_outputs\u001b[0m\u001b[1;33m=\u001b[0m\u001b[0mself\u001b[0m\u001b[1;33m.\u001b[0m\u001b[0m_num_outputs\u001b[0m\u001b[1;33m,\u001b[0m\u001b[1;33m\u001b[0m\u001b[1;33m\u001b[0m\u001b[0m\n",
      "\u001b[1;32mC:\\ProgramData\\Anaconda3\\lib\\site-packages\\tensorflow\\python\\eager\\execute.py\u001b[0m in \u001b[0;36mquick_execute\u001b[1;34m(op_name, num_outputs, inputs, attrs, ctx, name)\u001b[0m\n\u001b[0;32m     57\u001b[0m   \u001b[1;32mtry\u001b[0m\u001b[1;33m:\u001b[0m\u001b[1;33m\u001b[0m\u001b[1;33m\u001b[0m\u001b[0m\n\u001b[0;32m     58\u001b[0m     \u001b[0mctx\u001b[0m\u001b[1;33m.\u001b[0m\u001b[0mensure_initialized\u001b[0m\u001b[1;33m(\u001b[0m\u001b[1;33m)\u001b[0m\u001b[1;33m\u001b[0m\u001b[1;33m\u001b[0m\u001b[0m\n\u001b[1;32m---> 59\u001b[1;33m     tensors = pywrap_tfe.TFE_Py_Execute(ctx._handle, device_name, op_name,\n\u001b[0m\u001b[0;32m     60\u001b[0m                                         inputs, attrs, num_outputs)\n\u001b[0;32m     61\u001b[0m   \u001b[1;32mexcept\u001b[0m \u001b[0mcore\u001b[0m\u001b[1;33m.\u001b[0m\u001b[0m_NotOkStatusException\u001b[0m \u001b[1;32mas\u001b[0m \u001b[0me\u001b[0m\u001b[1;33m:\u001b[0m\u001b[1;33m\u001b[0m\u001b[1;33m\u001b[0m\u001b[0m\n",
      "\u001b[1;31mKeyboardInterrupt\u001b[0m: "
     ]
    }
   ],
   "source": [
    "es = EarlyStopping(monitor='val_loss', mode='min', verbose=1, patience=3)\r\n",
    "model.compile(optimizer='adam', loss='categorical_crossentropy', metrics=['acc'])\r\n",
    "\r\n",
    "model.fit(x_train, y_train, epochs=100, callbacks=[es], batch_size=32, validation_split=0.2)\r\n",
    "# mode = load_model('saved/conv1D_model_0610.h5')"
   ]
  },
  {
   "cell_type": "code",
   "execution_count": null,
   "metadata": {},
   "outputs": [],
   "source": [
    "import pickle\r\n",
    "model.save('D:/분석팀 스터디/NLP_TEST/0610/saved/conv1D_model_0614.h5')\r\n",
    "pickle.dump(tokenizer,open('D:/분석팀 스터디/NLP_TEST/0610/saved/conv1D_tokenizer_0614.pkl','wb'))\r\n",
    "pickle.dump(label_encoder,open('D:/분석팀 스터디/NLP_TEST/0610/saved/conv1D_labelencoder_0614.pkl','wb'))\r\n",
    "\r\n"
   ]
  },
  {
   "cell_type": "code",
   "execution_count": null,
   "metadata": {},
   "outputs": [],
   "source": [
    "\r\n",
    "test_df = pd.read_excel('Training_Test.xlsx',sheet_name=3)\r\n",
    "test_df['text'] = test_df[]\r\n"
   ]
  },
  {
   "cell_type": "code",
   "execution_count": null,
   "metadata": {},
   "outputs": [],
   "source": [
    "y_predict = model.predict(x_test)\r\n"
   ]
  },
  {
   "cell_type": "code",
   "execution_count": null,
   "metadata": {},
   "outputs": [],
   "source": [
    "y_predict.shape"
   ]
  },
  {
   "cell_type": "code",
   "execution_count": null,
   "metadata": {},
   "outputs": [],
   "source": [
    "y_predict = y_predict.argmax(axis=1)\r\n"
   ]
  },
  {
   "cell_type": "code",
   "execution_count": null,
   "metadata": {},
   "outputs": [],
   "source": [
    "print(y_predict.shape)\r\n",
    "print(y_test.values.shape)"
   ]
  },
  {
   "cell_type": "code",
   "execution_count": null,
   "metadata": {},
   "outputs": [],
   "source": [
    "from sklearn.metrics import accuracy_score\r\n",
    "\r\n",
    "acc = accuracy_score(y_test.values, y_predict)\r\n",
    "acc\r\n"
   ]
  },
  {
   "cell_type": "code",
   "execution_count": null,
   "metadata": {},
   "outputs": [],
   "source": [
    "# label_encoder.inverse_transform(y_predict[:10])\r\n",
    "print(pd.__version__)\r\n"
   ]
  }
 ],
 "metadata": {
  "kernelspec": {
   "display_name": "Python 3.8.5 64-bit ('base': conda)",
   "name": "python385jvsc74a57bd0b3ba2566441a7c06988d0923437866b63cedc61552a5af99d1f4fb67d367b25f"
  },
  "language_info": {
   "codemirror_mode": {
    "name": "ipython",
    "version": 3
   },
   "file_extension": ".py",
   "mimetype": "text/x-python",
   "name": "python",
   "nbconvert_exporter": "python",
   "pygments_lexer": "ipython3",
   "version": "3.8.5"
  },
  "orig_nbformat": 3
 },
 "nbformat": 4,
 "nbformat_minor": 2
}
